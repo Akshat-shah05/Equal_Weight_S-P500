{
 "cells": [
  {
   "cell_type": "markdown",
   "id": "b0c6f926-3e7f-4c2f-9314-5597cc3b5803",
   "metadata": {},
   "source": [
    "# Equal-Weight S&P 500 Index Fund"
   ]
  },
  {
   "cell_type": "markdown",
   "id": "cd7838f0-4da4-4fca-8d93-780296132480",
   "metadata": {},
   "source": [
    "##### The goal is to create a program in python that can take the value of your portfolio and tell you how many shares of each S&P 500 constituent you should purchase to get an equal-weight version of the fund"
   ]
  },
  {
   "cell_type": "markdown",
   "id": "079186ad-2fd8-4760-94a4-ee37c0dbfe03",
   "metadata": {},
   "source": [
    "### Library Imports"
   ]
  },
  {
   "cell_type": "code",
   "execution_count": 1,
   "id": "7e192db7-7642-443e-8b88-9e8af6ae5a8f",
   "metadata": {},
   "outputs": [],
   "source": [
    "import numpy as np\n",
    "import pandas as pd\n",
    "import requests\n",
    "from requests.auth import HTTPBasicAuth\n",
    "import xlsxwriter\n",
    "import intrinio_sdk\n",
    "import math"
   ]
  },
  {
   "cell_type": "markdown",
   "id": "68f90a34-ac0b-4f6e-9a62-abd8c8255214",
   "metadata": {},
   "source": [
    "### Importing our Stocks (Tickers) from CSV"
   ]
  },
  {
   "cell_type": "code",
   "execution_count": 96,
   "id": "22bf03c0-cc9a-4293-8886-0fb5cbb0d6dd",
   "metadata": {},
   "outputs": [
    {
     "data": {
      "text/html": [
       "<div>\n",
       "<style scoped>\n",
       "    .dataframe tbody tr th:only-of-type {\n",
       "        vertical-align: middle;\n",
       "    }\n",
       "\n",
       "    .dataframe tbody tr th {\n",
       "        vertical-align: top;\n",
       "    }\n",
       "\n",
       "    .dataframe thead th {\n",
       "        text-align: right;\n",
       "    }\n",
       "</style>\n",
       "<table border=\"1\" class=\"dataframe\">\n",
       "  <thead>\n",
       "    <tr style=\"text-align: right;\">\n",
       "      <th></th>\n",
       "      <th>Ticker</th>\n",
       "    </tr>\n",
       "  </thead>\n",
       "  <tbody>\n",
       "    <tr>\n",
       "      <th>0</th>\n",
       "      <td>A</td>\n",
       "    </tr>\n",
       "    <tr>\n",
       "      <th>1</th>\n",
       "      <td>AAL</td>\n",
       "    </tr>\n",
       "    <tr>\n",
       "      <th>2</th>\n",
       "      <td>AAP</td>\n",
       "    </tr>\n",
       "    <tr>\n",
       "      <th>3</th>\n",
       "      <td>AAPL</td>\n",
       "    </tr>\n",
       "    <tr>\n",
       "      <th>4</th>\n",
       "      <td>ABBV</td>\n",
       "    </tr>\n",
       "    <tr>\n",
       "      <th>...</th>\n",
       "      <td>...</td>\n",
       "    </tr>\n",
       "    <tr>\n",
       "      <th>500</th>\n",
       "      <td>YUM</td>\n",
       "    </tr>\n",
       "    <tr>\n",
       "      <th>501</th>\n",
       "      <td>ZBH</td>\n",
       "    </tr>\n",
       "    <tr>\n",
       "      <th>502</th>\n",
       "      <td>ZBRA</td>\n",
       "    </tr>\n",
       "    <tr>\n",
       "      <th>503</th>\n",
       "      <td>ZION</td>\n",
       "    </tr>\n",
       "    <tr>\n",
       "      <th>504</th>\n",
       "      <td>ZTS</td>\n",
       "    </tr>\n",
       "  </tbody>\n",
       "</table>\n",
       "<p>505 rows × 1 columns</p>\n",
       "</div>"
      ],
      "text/plain": [
       "    Ticker\n",
       "0        A\n",
       "1      AAL\n",
       "2      AAP\n",
       "3     AAPL\n",
       "4     ABBV\n",
       "..     ...\n",
       "500    YUM\n",
       "501    ZBH\n",
       "502   ZBRA\n",
       "503   ZION\n",
       "504    ZTS\n",
       "\n",
       "[505 rows x 1 columns]"
      ]
     },
     "execution_count": 96,
     "metadata": {},
     "output_type": "execute_result"
    }
   ],
   "source": [
    "stocks = pd.read_csv(\"sp_500_stocks.csv\")\n",
    "stocks"
   ]
  },
  {
   "cell_type": "markdown",
   "id": "ad389401-f030-414f-b593-1015414be6f4",
   "metadata": {},
   "source": [
    "### Get the API Token from IEX Cloud"
   ]
  },
  {
   "cell_type": "code",
   "execution_count": 5,
   "id": "ccb9aa3e-955b-4394-b0ae-99225a0b5475",
   "metadata": {},
   "outputs": [],
   "source": [
    "from secrets2 import API_TOKEN "
   ]
  },
  {
   "cell_type": "markdown",
   "id": "5abfb448-9499-40e1-ae01-32dc6672df9e",
   "metadata": {},
   "source": [
    "### API Call to get Market Capitalization and Price"
   ]
  },
  {
   "cell_type": "code",
   "execution_count": 108,
   "id": "ac529db3-d891-477f-9fc2-a571b4066b29",
   "metadata": {},
   "outputs": [],
   "source": [
    "# Construct the full URL with the necessary parameters\n",
    "def getPrice(symbol, token):\n",
    "    function = 'GLOBAL_QUOTE'\n",
    "    base_url = 'https://www.alphavantage.co/query'\n",
    "    url = f'{base_url}?function={function}&symbol={symbol}&apikey={api_key}'\n",
    "    \n",
    "    # Make the GET request\n",
    "    response = requests.get(url)\n",
    "    \n",
    "    # Check the status code and print the result\n",
    "    if response.status_code == 200:\n",
    "        data = response.json()\n",
    "        # The current stock price is in the '05. price' field of the 'Global Quote' section\n",
    "        current_price = data['Global Quote']['05. price']\n",
    "        return current_price\n",
    "    else:\n",
    "        print(f\"Failed to retrieve data: {response.status_code}, {response.text}\")\n",
    "\n",
    "def getMarketCap(symbol, token):\n",
    "    function = 'OVERVIEW'\n",
    "    base_url = 'https://www.alphavantage.co/query'\n",
    "    url = f'{base_url}?function={function}&symbol={symbol}&apikey={api_key}'\n",
    "    \n",
    "    # Make the GET request\n",
    "    response = requests.get(url)\n",
    "    \n",
    "    # Check the status code and print the result\n",
    "    if response.status_code == 200:\n",
    "        data = response.json()\n",
    "        # The current stock price is in the '05. price' field of the 'Global Quote' section\n",
    "        current_price = data['MarketCapitalization']\n",
    "        return current_price\n",
    "    else:\n",
    "        print(f\"Failed to retrieve data: {response.status_code}, {response.text}\")"
   ]
  },
  {
   "cell_type": "code",
   "execution_count": 112,
   "id": "43904338-a24f-4ad6-93cc-976b1577ece8",
   "metadata": {},
   "outputs": [
    {
     "name": "stdout",
     "output_type": "stream",
     "text": [
      "Current stock price of IBM: ${'Information': 'Thank you for using Alpha Vantage! Our standard API rate limit is 25 requests per day. Please subscribe to any of the premium plans at https://www.alphavantage.co/premium/ to instantly remove all daily rate limits.'}\n"
     ]
    },
    {
     "ename": "KeyError",
     "evalue": "'MarketCapitalization'",
     "output_type": "error",
     "traceback": [
      "\u001b[0;31m---------------------------------------------------------------------------\u001b[0m",
      "\u001b[0;31mKeyError\u001b[0m                                  Traceback (most recent call last)",
      "Cell \u001b[0;32mIn[112], line 2\u001b[0m\n\u001b[1;32m      1\u001b[0m price \u001b[38;5;241m=\u001b[39m getPrice(\u001b[38;5;124m\"\u001b[39m\u001b[38;5;124mIBM\u001b[39m\u001b[38;5;124m\"\u001b[39m, API_TOKEN)\n\u001b[0;32m----> 2\u001b[0m market_cap \u001b[38;5;241m=\u001b[39m getMarketCap(\u001b[38;5;124m\"\u001b[39m\u001b[38;5;124mIBM\u001b[39m\u001b[38;5;124m\"\u001b[39m, API_TOKEN)\n",
      "Cell \u001b[0;32mIn[108], line 32\u001b[0m, in \u001b[0;36mgetMarketCap\u001b[0;34m(symbol, token)\u001b[0m\n\u001b[1;32m     30\u001b[0m data \u001b[38;5;241m=\u001b[39m response\u001b[38;5;241m.\u001b[39mjson()\n\u001b[1;32m     31\u001b[0m \u001b[38;5;66;03m# The current stock price is in the '05. price' field of the 'Global Quote' section\u001b[39;00m\n\u001b[0;32m---> 32\u001b[0m current_price \u001b[38;5;241m=\u001b[39m data[\u001b[38;5;124m'\u001b[39m\u001b[38;5;124mMarketCapitalization\u001b[39m\u001b[38;5;124m'\u001b[39m]\n\u001b[1;32m     33\u001b[0m \u001b[38;5;28mprint\u001b[39m(\u001b[38;5;124mf\u001b[39m\u001b[38;5;124m\"\u001b[39m\u001b[38;5;124mCurrent Market Cap of \u001b[39m\u001b[38;5;132;01m{\u001b[39;00msymbol\u001b[38;5;132;01m}\u001b[39;00m\u001b[38;5;124m: $\u001b[39m\u001b[38;5;132;01m{\u001b[39;00mdata\u001b[38;5;132;01m}\u001b[39;00m\u001b[38;5;124m\"\u001b[39m)\n\u001b[1;32m     34\u001b[0m \u001b[38;5;28;01mreturn\u001b[39;00m current_price\n",
      "\u001b[0;31mKeyError\u001b[0m: 'MarketCapitalization'"
     ]
    }
   ],
   "source": [
    "price = getPrice(\"IBM\", API_TOKEN)\n",
    "market_cap = getMarketCap(\"IBM\", API_TOKEN)"
   ]
  },
  {
   "cell_type": "markdown",
   "id": "b5adf6b4-7559-463f-a8d1-53d66865d24b",
   "metadata": {},
   "source": [
    "### Add the Stock Data for Each stock into the Pandas DataFrame"
   ]
  },
  {
   "cell_type": "code",
   "execution_count": 90,
   "id": "a7d00e84-dbed-49c6-aa3f-7ce806fb95a3",
   "metadata": {},
   "outputs": [
    {
     "name": "stdout",
     "output_type": "stream",
     "text": [
      "  ticker stock price market capitalization number of shares to buy\n",
      "0   AAPL    177.3000          160847397000                     N/A\n"
     ]
    }
   ],
   "source": [
    "import pandas as pd\n",
    "\n",
    "# Define the columns\n",
    "cols = ['ticker', 'stock price', 'market capitalization', 'number of shares to buy']\n",
    "\n",
    "# Create an empty DataFrame with the specified columns\n",
    "finalDataFrame = pd.DataFrame(columns=cols)\n",
    "\n",
    "# Define the data to be added\n",
    "symbol = 'AAPL'  # Example ticker\n",
    "\n",
    "# Append the data using loc\n",
    "finalDataFrame.loc[len(finalDataFrame)] = [symbol, price, market_cap, 'N/A']\n",
    "\n",
    "# Display the DataFrame\n",
    "print(finalDataFrame)\n"
   ]
  },
  {
   "cell_type": "code",
   "execution_count": 100,
   "id": "e2499d8f-23ef-40d4-8d16-7640f23f1f6c",
   "metadata": {},
   "outputs": [
    {
     "name": "stdout",
     "output_type": "stream",
     "text": [
      "Current stock price of A: $125.7800\n",
      "Current Market Cap of A: $37170352000\n",
      "Current stock price of AAL: $11.0500\n",
      "Current Market Cap of AAL: $7243233000\n",
      "Current stock price of AAP: $60.6000\n",
      "Current Market Cap of AAP: $3560047000\n",
      "Current stock price of AAPL: $220.2700\n",
      "Current Market Cap of AAPL: $3323666104000\n",
      "Current stock price of ABBV: $165.9600\n",
      "Current Market Cap of ABBV: $300851266000\n"
     ]
    },
    {
     "ename": "KeyError",
     "evalue": "'Global Quote'",
     "output_type": "error",
     "traceback": [
      "\u001b[0;31m---------------------------------------------------------------------------\u001b[0m",
      "\u001b[0;31mKeyError\u001b[0m                                  Traceback (most recent call last)",
      "Cell \u001b[0;32mIn[100], line 2\u001b[0m\n\u001b[1;32m      1\u001b[0m \u001b[38;5;28;01mfor\u001b[39;00m stock \u001b[38;5;129;01min\u001b[39;00m stocks[\u001b[38;5;124m'\u001b[39m\u001b[38;5;124mTicker\u001b[39m\u001b[38;5;124m'\u001b[39m]:\n\u001b[0;32m----> 2\u001b[0m     price \u001b[38;5;241m=\u001b[39m getPrice(stock, API_TOKEN)\n\u001b[1;32m      3\u001b[0m     market_cap \u001b[38;5;241m=\u001b[39m getMarketCap(stock, API_TOKEN)\n\u001b[1;32m      4\u001b[0m     finalDataFrame\u001b[38;5;241m.\u001b[39mloc[\u001b[38;5;28mlen\u001b[39m(finalDataFrame)] \u001b[38;5;241m=\u001b[39m [stock, price, market_cap, \u001b[38;5;124m'\u001b[39m\u001b[38;5;124mN/A\u001b[39m\u001b[38;5;124m'\u001b[39m]\n",
      "Cell \u001b[0;32mIn[74], line 14\u001b[0m, in \u001b[0;36mgetPrice\u001b[0;34m(symbol, token)\u001b[0m\n\u001b[1;32m     12\u001b[0m data \u001b[38;5;241m=\u001b[39m response\u001b[38;5;241m.\u001b[39mjson()\n\u001b[1;32m     13\u001b[0m \u001b[38;5;66;03m# The current stock price is in the '05. price' field of the 'Global Quote' section\u001b[39;00m\n\u001b[0;32m---> 14\u001b[0m current_price \u001b[38;5;241m=\u001b[39m data[\u001b[38;5;124m'\u001b[39m\u001b[38;5;124mGlobal Quote\u001b[39m\u001b[38;5;124m'\u001b[39m][\u001b[38;5;124m'\u001b[39m\u001b[38;5;124m05. price\u001b[39m\u001b[38;5;124m'\u001b[39m]\n\u001b[1;32m     15\u001b[0m \u001b[38;5;28mprint\u001b[39m(\u001b[38;5;124mf\u001b[39m\u001b[38;5;124m\"\u001b[39m\u001b[38;5;124mCurrent stock price of \u001b[39m\u001b[38;5;132;01m{\u001b[39;00msymbol\u001b[38;5;132;01m}\u001b[39;00m\u001b[38;5;124m: $\u001b[39m\u001b[38;5;132;01m{\u001b[39;00mcurrent_price\u001b[38;5;132;01m}\u001b[39;00m\u001b[38;5;124m\"\u001b[39m)\n\u001b[1;32m     16\u001b[0m \u001b[38;5;28;01mreturn\u001b[39;00m current_price\n",
      "\u001b[0;31mKeyError\u001b[0m: 'Global Quote'"
     ]
    }
   ],
   "source": [
    "for stock in stocks['Ticker']:\n",
    "    price = getPrice(stock, API_TOKEN)\n",
    "    market_cap = getMarketCap(stock, API_TOKEN)\n",
    "    finalDataFrame.loc[len(finalDataFrame)] = [stock, price, market_cap, 'N/A']\n",
    "\n",
    "finalDataFrame"
   ]
  },
  {
   "cell_type": "code",
   "execution_count": null,
   "id": "596ca48a-3d1f-4127-b37d-e1bb3b1e6e70",
   "metadata": {},
   "outputs": [],
   "source": []
  }
 ],
 "metadata": {
  "kernelspec": {
   "display_name": "Python 3 (ipykernel)",
   "language": "python",
   "name": "python3"
  },
  "language_info": {
   "codemirror_mode": {
    "name": "ipython",
    "version": 3
   },
   "file_extension": ".py",
   "mimetype": "text/x-python",
   "name": "python",
   "nbconvert_exporter": "python",
   "pygments_lexer": "ipython3",
   "version": "3.11.5"
  }
 },
 "nbformat": 4,
 "nbformat_minor": 5
}
